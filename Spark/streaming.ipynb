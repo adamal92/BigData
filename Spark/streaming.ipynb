{
 "cells": [
  {
   "cell_type": "code",
   "execution_count": null,
   "metadata": {
    "collapsed": true
   },
   "outputs": [],
   "source": [
    "import os\n",
    "os.chdir(\"\")\n",
    "os.curdir()\n",
    "\n",
    "if 'SPARK_HOME' not in os.environ:\n",
    "    os.environ['SPARK_HOME'] = \"\"\n",
    "\n",
    "SPARK_HOME = os.environ['SPARK_HOME']"
   ]
  },
  {
   "cell_type": "markdown",
   "metadata": {},
   "source": [
    "Don't run the above code, it can break your Spark setup"
   ]
  },
  {
   "cell_type": "heading",
   "metadata": {},
   "level": 1,
   "source": [
    "Streaming with simple data"
   ]
  },
  {
   "cell_type": "code",
   "execution_count": null,
   "metadata": {},
   "outputs": [],
   "source": [
    "import sys\n",
    "sys.path.insert(0, os.path.join(SPARK_HOME, \"python\", \"lib\"))\n",
    "from pyspark import SparkConf, SparkContext\n",
    "\n",
    "conf = SparkConf()\n",
    "# conf.set(\"spark.executor.memory\", \"1g\")\n",
    "# conf.set(\"spark.cors.max\", \"2\")\n",
    "conf.setAppName(\"name\")\n",
    "\n",
    "# for streaming' create a spark context with 2 threads\n",
    "sc = SparkContext('local[2]', conf=conf)"
   ]
  },
  {
   "cell_type": "code",
   "execution_count": 2,
   "metadata": {},
   "outputs": [
    {
     "name": "stdout",
     "output_type": "stream",
     "text": [
      "hellow worl\n"
     ]
    }
   ],
   "source": [
    "print(\"hellow worl\")"
   ]
  },
  {
   "cell_type": "markdown",
   "metadata": {},
   "source": [
    "To run this \"hello world\": open the terminal and run \"jupyter notebook\". after that, find the token, highlight it, and right click to copy it. (pasting into powershell is also done by right-clicking)"
   ]
  },
  {
   "cell_type": "code",
   "execution_count": null,
   "metadata": {},
   "outputs": [],
   "source": [
    "from pyspark.streaming import StreamingContext\n",
    "\n",
    "vc = [[-1.0, 0.2], [0.2, 0.3]]\n",
    "dvc = [sc.parallelize(i, 1) for i in vc]\n",
    "ssc = StreamingContext(sc, 2)\n",
    "input_stream = ssc.queueStream(dvc)\n",
    "\n",
    "\n",
    "def get_output(rdd):\n",
    "    print(rdd.collect())\n",
    "    \n",
    "    \n",
    "input_stream.foreachRDD(get_output)\n",
    "ssc.start()\n",
    "ssc.stop()"
   ]
  }
 ],
 "metadata": {
  "kernelspec": {
   "display_name": "Python 2",
   "language": "python",
   "name": "python2"
  },
  "language_info": {
   "codemirror_mode": {
    "name": "ipython",
    "version": 2
   },
   "file_extension": ".py",
   "mimetype": "text/x-python",
   "name": "python",
   "nbconvert_exporter": "python",
   "pygments_lexer": "ipython2",
   "version": "2.7.6"
  }
 },
 "nbformat": 4,
 "nbformat_minor": 0
}
